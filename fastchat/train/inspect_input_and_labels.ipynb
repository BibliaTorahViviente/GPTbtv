{
 "cells": [
  {
   "cell_type": "code",
   "execution_count": 1,
   "id": "676415d4-d4a9-46c4-a6bd-d523298153f0",
   "metadata": {
    "tags": []
   },
   "outputs": [
    {
     "name": "stderr",
     "output_type": "stream",
     "text": [
      "/home/minhvn/anaconda3/envs/llama-adapter/lib/python3.11/site-packages/tqdm/auto.py:21: TqdmWarning: IProgress not found. Please update jupyter and ipywidgets. See https://ipywidgets.readthedocs.io/en/stable/user_install.html\n",
      "  from .autonotebook import tqdm as notebook_tqdm\n"
     ]
    },
    {
     "name": "stdout",
     "output_type": "stream",
     "text": [
      "[2023-07-10 08:20:34,601] [INFO] [real_accelerator.py:110:get_accelerator] Setting ds_accelerator to cuda (auto detect)\n"
     ]
    }
   ],
   "source": [
    "import copy\n",
    "from dataclasses import dataclass, field\n",
    "import json\n",
    "import pathlib\n",
    "from typing import Dict, Optional, Sequence\n",
    "\n",
    "import numpy as np\n",
    "import torch\n",
    "from torch.utils.data import Dataset\n",
    "import transformers\n",
    "from transformers import Trainer\n",
    "from transformers.trainer_pt_utils import LabelSmoother\n",
    "\n",
    "from fastchat.conversation import SeparatorStyle\n",
    "from fastchat.model.model_adapter import get_conversation_template\n",
    "\n",
    "IGNORE_TOKEN_ID = LabelSmoother.ignore_index"
   ]
  },
  {
   "cell_type": "code",
   "execution_count": 2,
   "id": "e869f23f-d79a-409a-9719-b792864a1eec",
   "metadata": {
    "tags": []
   },
   "outputs": [
    {
     "data": {
      "text/plain": [
       "list"
      ]
     },
     "execution_count": 2,
     "metadata": {},
     "output_type": "execute_result"
    }
   ],
   "source": [
    "data_path = '/home/minhvn/workspace/llm/FastChat/fastchat/data/rikkei_clean.json'\n",
    "raw_data = json.load(open(data_path, \"r\"))\n",
    "sources = [example[\"conversations\"] for example in raw_data]\n",
    "type(sources)"
   ]
  },
  {
   "cell_type": "code",
   "execution_count": 3,
   "id": "c9487a6f-fe88-414c-8bc3-b5930c7a6e8f",
   "metadata": {
    "tags": []
   },
   "outputs": [
    {
     "data": {
      "text/plain": [
       "{'human': 'USER', 'gpt': 'ASSISTANT'}"
      ]
     },
     "execution_count": 3,
     "metadata": {},
     "output_type": "execute_result"
    }
   ],
   "source": [
    "conv = get_conversation_template(\"vicuna\")\n",
    "roles = {\"human\": conv.roles[0], \"gpt\": conv.roles[1]}\n",
    "roles"
   ]
  },
  {
   "cell_type": "code",
   "execution_count": 4,
   "id": "39a42cde-8675-4a53-8d0a-2e5286b04981",
   "metadata": {
    "tags": []
   },
   "outputs": [
    {
     "name": "stdout",
     "output_type": "stream",
     "text": [
      "A chat between a curious user and an artificial intelligence assistant. The assistant gives helpful, detailed, and polite answers to the user's questions. USER: Can you tell me the full name of our colleague known as congp? ASSISTANT: Function: contact(keyword=\"congp\")\n",
      "Observation: </s>\n",
      "\n",
      "\n",
      "A chat between a curious user and an artificial intelligence assistant. The assistant gives helpful, detailed, and polite answers to the user's questions. USER: Can you tell me the full name of our colleague known as congp?\n",
      "Input:\n",
      "Function: contact(keyword=\"congp\")\n",
      "Observation: {\"total\": 1, \"data\": [{\"code\": \"NV0002006\", \"email\": \"congpv@rikkeisoft.com\", \"birthday\": \"1995-05-02\", \"full_name\": \"Phạm Văn Công\", \"family_name\": \"Phạm\", \"first_name\": \"Công\", \"phone\": \"0988458602\", \"department\": \"D6\", \"role\": \"Member\", \"start_working_official\": \"2022-05-01\", \"start_working_trial\": \"2022-03-01\", \"bank_account\": null}]}\n",
      " ASSISTANT: Final Answer: The full name of our colleague known as congp is Phạm Văn Công.</s>\n"
     ]
    }
   ],
   "source": [
    "# Apply prompt templates\n",
    "conversations = []\n",
    "for i, source in enumerate(sources):\n",
    "    if roles[source[0][\"from\"]] != conv.roles[0]:\n",
    "        # Skip the first one if it is not from human\n",
    "        source = source[1:]\n",
    "\n",
    "    conv.messages = []\n",
    "    for j, sentence in enumerate(source):\n",
    "        role = roles[sentence[\"from\"]]\n",
    "        assert role == conv.roles[j % 2], f\"{i}\"\n",
    "        conv.append_message(role, sentence[\"value\"])\n",
    "    conversations.append(conv.get_prompt())\n",
    "    \n",
    "print(conversations[0])\n",
    "print('\\n')\n",
    "print(conversations[1])"
   ]
  },
  {
   "cell_type": "code",
   "execution_count": 13,
   "id": "8470bff2-818f-4ef6-a811-d4459695b083",
   "metadata": {
    "tags": []
   },
   "outputs": [
    {
     "name": "stdout",
     "output_type": "stream",
     "text": [
      "621\n",
      "]}\n",
      " A\n"
     ]
    }
   ],
   "source": [
    "substring = \"ASSISTANT:\"\n",
    "index = conversations[1].find(substring)\n",
    "print(index)  # Output: 7\n",
    "\n",
    "print(conversations[1][617:622])\n",
    "if conversations[1][618] == '\\n':\n",
    "    print(\"YES\")"
   ]
  },
  {
   "cell_type": "code",
   "execution_count": 5,
   "id": "9fc579bc-60e0-4abb-a4be-a54ef3c5d581",
   "metadata": {
    "tags": []
   },
   "outputs": [],
   "source": [
    "# Tokenize conversations\n",
    "model_path = 'lmsys/vicuna-7b-v1.3'\n",
    "tokenizer = transformers.AutoTokenizer.from_pretrained(\n",
    "        model_path,\n",
    "        model_max_length=2048,\n",
    "        padding_side=\"right\",\n",
    "        use_fast=False,\n",
    "    )\n",
    "input_ids = tokenizer(\n",
    "    conversations,\n",
    "    return_tensors=\"pt\",\n",
    "    padding=\"max_length\",\n",
    "    max_length=tokenizer.model_max_length,\n",
    "    truncation=True,\n",
    ").input_ids\n",
    "\n",
    "targets = input_ids.clone()"
   ]
  },
  {
   "cell_type": "code",
   "execution_count": 15,
   "id": "74d0f727-ae80-46a8-bb2b-5d03f37122e8",
   "metadata": {
    "tags": []
   },
   "outputs": [
    {
     "name": "stdout",
     "output_type": "stream",
     "text": [
      "307\n",
      "307\n"
     ]
    }
   ],
   "source": [
    "print(len(targets))\n",
    "print(len(input_ids))"
   ]
  },
  {
   "cell_type": "code",
   "execution_count": 16,
   "id": "640ffe08-4c36-4fd5-b63e-a99c52a1a172",
   "metadata": {
    "tags": []
   },
   "outputs": [
    {
     "data": {
      "text/plain": [
       "' ASSISTANT: '"
      ]
     },
     "execution_count": 16,
     "metadata": {},
     "output_type": "execute_result"
    }
   ],
   "source": [
    "# Mask targets\n",
    "sep = conv.sep + conv.roles[1] + \": \"\n",
    "sep"
   ]
  },
  {
   "cell_type": "code",
   "execution_count": 35,
   "id": "8588446f-29f5-4cd9-985a-cdab51c21a45",
   "metadata": {
    "tags": []
   },
   "outputs": [
    {
     "name": "stdout",
     "output_type": "stream",
     "text": [
      "tensor([ -100,   319, 13563,  ...,     0,     0,     0])\n",
      "A chat between a curious user and an artificial intelligence assistant. The assistant gives helpful, detailed, and polite answers to the user's questions. USER: Can you tell me the full name of our colleague known as congp?\n",
      "Input:\n",
      "Function: contact(keyword=\"congp\")\n",
      "Observation: {\"total\": 1, \"data\": [{\"code\": \"NV0002006\", \"email\": \"congpv@rikkeisoft.com\", \"birthday\": \"1995-05-02\", \"full_name\": \"Phạm Văn Công\", \"family_name\": \"Phạm\", \"first_name\": \"Công\", \"phone\": \"0988458602\", \"department\": \"D6\", \"role\": \"Member\", \"start_working_official\": \"2022-05-01\", \"start_working_trial\": \"2022-03-01\", \"bank_account\": null}]}\n",
      " ASSISTANT: Final Answer: The full name of our colleague known as congp is Phạm Văn Công.</s>\n"
     ]
    }
   ],
   "source": [
    "target = targets[1]\n",
    "conversation = conversations[1]\n",
    "print(target)\n",
    "print(conversations[1])\n"
   ]
  },
  {
   "cell_type": "code",
   "execution_count": 18,
   "id": "106ec0b8-e5a5-4c26-aa8d-3af7dd25af48",
   "metadata": {
    "tags": []
   },
   "outputs": [
    {
     "name": "stdout",
     "output_type": "stream",
     "text": [
      "tensor(1777)\n",
      "tensor([    1,   319, 13563,  1546,   263, 12758,  1404,   322,   385, 23116,\n",
      "        21082, 20255, 29889,   450, 20255,  4076,  8444, 29892, 13173, 29892,\n",
      "          322,  1248,   568,  6089,   304,   278,  1404, 29915, 29879,  5155,\n",
      "        29889,  3148,  1001, 29901,  1815,   366,  2649,   592,   278,  2989,\n",
      "         1024,   310,  1749, 23056,  3437,  2998,   408,   378, 29887, 29886,\n",
      "        29973,    13,  4290, 29901,    13,  6678, 29901,  6958, 29898, 26766,\n",
      "          543, 21015, 29886,  1159,    13,  6039,  2140,   362, 29901,  8853,\n",
      "         7827,  1115, 29871, 29896, 29892,   376,  1272,  1115,   518,  6377])\n"
     ]
    }
   ],
   "source": [
    "len(target)\n",
    "cnt = 0\n",
    "for i in target:\n",
    "    cnt += i == 0\n",
    "print(cnt)\n",
    "print(target[:80])\n"
   ]
  },
  {
   "cell_type": "code",
   "execution_count": 19,
   "id": "c6d8b5b9-45a0-47b2-8d40-befb23b4293d",
   "metadata": {
    "tags": []
   },
   "outputs": [
    {
     "name": "stdout",
     "output_type": "stream",
     "text": [
      "0\n",
      "271\n"
     ]
    }
   ],
   "source": [
    "tokenizer.pad_token = tokenizer.unk_token\n",
    "total_len = int(target.ne(tokenizer.pad_token_id).sum())\n",
    "print(tokenizer.pad_token_id)\n",
    "print(total_len)\n",
    "# At token 73, target is padded with zeros"
   ]
  },
  {
   "cell_type": "code",
   "execution_count": 20,
   "id": "d1a2e675-2e45-40e5-b22d-3a2fbd041b62",
   "metadata": {
    "tags": []
   },
   "outputs": [
    {
     "name": "stdout",
     "output_type": "stream",
     "text": [
      "A chat between a curious user and an artificial intelligence assistant. The assistant gives helpful, detailed, and polite answers to the user's questions. USER: Can you tell me the full name of our colleague known as congp?\n",
      "Input:\n",
      "Function: contact(keyword=\"congp\")\n",
      "Observation: {\"total\": 1, \"data\": [{\"code\": \"NV0002006\", \"email\": \"congpv@rikkeisoft.com\", \"birthday\": \"1995-05-02\", \"full_name\": \"Phạm Văn Công\", \"family_name\": \"Phạm\", \"first_name\": \"Công\", \"phone\": \"0988458602\", \"department\": \"D6\", \"role\": \"Member\", \"start_working_official\": \"2022-05-01\", \"start_working_trial\": \"2022-03-01\", \"bank_account\": null}]}\n",
      " ASSISTANT: Final Answer: The full name of our colleague known as congp is Phạm Văn Công.</s>\n",
      "\n",
      "\n",
      "['A chat between a curious user and an artificial intelligence assistant. The assistant gives helpful, detailed, and polite answers to the user\\'s questions. USER: Can you tell me the full name of our colleague known as congp?\\nInput:\\nFunction: contact(keyword=\"congp\")\\nObservation: {\"total\": 1, \"data\": [{\"code\": \"NV0002006\", \"email\": \"congpv@rikkeisoft.com\", \"birthday\": \"1995-05-02\", \"full_name\": \"Phạm Văn Công\", \"family_name\": \"Phạm\", \"first_name\": \"Công\", \"phone\": \"0988458602\", \"department\": \"D6\", \"role\": \"Member\", \"start_working_official\": \"2022-05-01\", \"start_working_trial\": \"2022-03-01\", \"bank_account\": null}]}\\n ASSISTANT: Final Answer: The full name of our colleague known as congp is Phạm Văn Công.', '']\n"
     ]
    }
   ],
   "source": [
    "print(conversation)\n",
    "print('\\n')\n",
    "rounds = conversation.split(conv.sep2)\n",
    "print(rounds)"
   ]
  },
  {
   "cell_type": "code",
   "execution_count": 29,
   "id": "daf327bb-2e33-4168-ac87-198aac8fe200",
   "metadata": {
    "tags": []
   },
   "outputs": [
    {
     "name": "stdout",
     "output_type": "stream",
     "text": [
      "A chat between a curious user and an artificial intelligence assistant. The assistant gives helpful, detailed, and polite answers to the user's questions. USER: Can you tell me the full name of our colleague known as congp?\n",
      "Input:\n",
      "Function: contact(keyword=\"congp\")\n",
      "Observation: {\"total\": 1, \"data\": [{\"code\": \"NV0002006\", \"email\": \"congpv@rikkeisoft.com\", \"birthday\": \"1995-05-02\", \"full_name\": \"Phạm Văn Công\", \"family_name\": \"Phạm\", \"first_name\": \"Công\", \"phone\": \"0988458602\", \"department\": \"D6\", \"role\": \"Member\", \"start_working_official\": \"2022-05-01\", \"start_working_trial\": \"2022-03-01\", \"bank_account\": null}]}\n",
      " ASSISTANT: Final Answer: The full name of our colleague known as congp is Phạm Văn Công.\n",
      "\n",
      "\n",
      "['A chat between a curious user and an artificial intelligence assistant. The assistant gives helpful, detailed, and polite answers to the user\\'s questions. USER: Can you tell me the full name of our colleague known as congp?\\nInput:\\nFunction: contact(keyword=\"congp\")\\nObservation: {\"total\": 1, \"data\": [{\"code\": \"NV0002006\", \"email\": \"congpv@rikkeisoft.com\", \"birthday\": \"1995-05-02\", \"full_name\": \"Phạm Văn Công\", \"family_name\": \"Phạm\", \"first_name\": \"Công\", \"phone\": \"0988458602\", \"department\": \"D6\", \"role\": \"Member\", \"start_working_official\": \"2022-05-01\", \"start_working_trial\": \"2022-03-01\", \"bank_account\": null}]}\\n', 'Final Answer: The full name of our colleague known as congp is Phạm Văn Công.']\n",
      "\n",
      "\n",
      "['A chat between a curious user and an artificial intelligence assistant. The assistant gives helpful, detailed, and polite answers to the user\\'s questions. USER: Can you tell me the full name of our colleague known as congp?\\nInput:\\nFunction: contact(keyword=\"congp\")\\nObservation: {\"total\": 1, \"data\": [{\"code\": \"NV0002006\", \"email\": \"congpv@rikkeisoft.com\", \"birthday\": \"1995-05-02\", \"full_name\": \"Phạm Văn Công\", \"family_name\": \"Phạm\", \"first_name\": \"Công\", \"phone\": \"0988458602\", \"department\": \"D6\", \"role\": \"Member\", \"start_working_official\": \"2022-05-01\", \"start_working_trial\": \"2022-03-01\", \"bank_account\": null}]}\\n ASSISTANT: ', 'Final Answer: The full name of our colleague known as congp is Phạm Văn Công.']\n",
      "\n",
      "\n",
      "\n",
      "\n",
      "instruction_len: 243\n",
      "A chat between a curious user and an artificial intelligence assistant. The assistant gives helpful, detailed, and polite answers to the user's questions. USER: Can you tell me the full name of our colleague known as congp?\n",
      "Input:\n",
      "Function: contact(keyword=\"congp\")\n",
      "Observation: {\"total\": 1, \"data\": [{\"code\": \"NV0002006\", \"email\": \"congpv@rikkeisoft.com\", \"birthday\": \"1995-05-02\", \"full_name\": \"Phạm Văn Công\", \"family_name\": \"Phạm\", \"first_name\": \"Công\", \"phone\": \"0988458602\", \"department\": \"D6\", \"role\": \"Member\", \"start_working_official\": \"2022-05-01\", \"start_working_trial\": \"2022-03-01\", \"bank_account\": null}]}\n",
      " ASSISTANT:\n"
     ]
    }
   ],
   "source": [
    "cur_len = 1\n",
    "target[:cur_len] = IGNORE_TOKEN_ID\n",
    "for i, rou in enumerate(rounds):\n",
    "    if rou == \"\":\n",
    "        break\n",
    "    parts = rou.split(sep)\n",
    "    print(rou)\n",
    "    print('\\n')\n",
    "    print(parts)\n",
    "    if len(parts) != 2:\n",
    "        break\n",
    "    parts[0] += sep\n",
    "    print('\\n')\n",
    "    print(parts)\n",
    "    round_len = len(tokenizer(rou).input_ids)\n",
    "    print('\\n')\n",
    "    #print(f\"round len: {round_len}\")\n",
    "    #print(tokenizer(rou).input_ids)\n",
    "    instruction_len = len(tokenizer(parts[0]).input_ids) - 2\n",
    "    print('\\n')\n",
    "    print(f\"instruction_len: {instruction_len}\")\n",
    "    print(tokenizer.decode(target[1:244]))"
   ]
  },
  {
   "cell_type": "code",
   "execution_count": 13,
   "id": "5f010473-053e-4e51-85cc-4f8ad586d373",
   "metadata": {
    "tags": []
   },
   "outputs": [
    {
     "name": "stdout",
     "output_type": "stream",
     "text": [
      "A chat between a curious user and an artificial intelligence assistant. The assistant gives helpful, detailed, and polite answers to the user's questions. USER: Can you tell me the full name of our colleague known as congp?\n",
      "Input:\n",
      "Function: contact(keyword=\"congp\")\n",
      "Observation: {\"total\": 1, \"data\": [{\"code\": \"NV0002006\", \"email\": \"congpv@rikkeisoft.com\", \"birthday\": \"1995-05-02\", \"full_name\": \"Phạm Văn Công\", \"family_name\": \"Phạm\", \"first_name\": \"Công\", \"phone\": \"0988458602\", \"department\": \"D6\", \"role\": \"Member\", \"start_working_official\": \"2022-05-01\", \"start_working_trial\": \"2022-03-01\", \"bank_account\": null}]}\n",
      " ASSISTANT: Final Answer: The full name of our colleague known as congp is Phạm Văn Công.\n",
      "['A chat between a curious user and an artificial intelligence assistant. The assistant gives helpful, detailed, and polite answers to the user\\'s questions. USER: Can you tell me the full name of our colleague known as congp?\\nInput:\\nFunction: contact(keyword=\"congp\")\\nObservation: {\"total\": 1, \"data\": [{\"code\": \"NV0002006\", \"email\": \"congpv@rikkeisoft.com\", \"birthday\": \"1995-05-02\", \"full_name\": \"Phạm Văn Công\", \"family_name\": \"Phạm\", \"first_name\": \"Công\", \"phone\": \"0988458602\", \"department\": \"D6\", \"role\": \"Member\", \"start_working_official\": \"2022-05-01\", \"start_working_trial\": \"2022-03-01\", \"bank_account\": null}]}\\n', 'Final Answer: The full name of our colleague known as congp is Phạm Văn Công.']\n",
      "['A chat between a curious user and an artificial intelligence assistant. The assistant gives helpful, detailed, and polite answers to the user\\'s questions. USER: Can you tell me the full name of our colleague known as congp?\\nInput:\\nFunction: contact(keyword=\"congp\")\\nObservation: {\"total\": 1, \"data\": [{\"code\": \"NV0002006\", \"email\": \"congpv@rikkeisoft.com\", \"birthday\": \"1995-05-02\", \"full_name\": \"Phạm Văn Công\", \"family_name\": \"Phạm\", \"first_name\": \"Công\", \"phone\": \"0988458602\", \"department\": \"D6\", \"role\": \"Member\", \"start_working_official\": \"2022-05-01\", \"start_working_trial\": \"2022-03-01\", \"bank_account\": null}]}\\n ASSISTANT: ', 'Final Answer: The full name of our colleague known as congp is Phạm Văn Công.']\n",
      "round len: 270\n",
      "[1, 319, 13563, 1546, 263, 12758, 1404, 322, 385, 23116, 21082, 20255, 29889, 450, 20255, 4076, 8444, 29892, 13173, 29892, 322, 1248, 568, 6089, 304, 278, 1404, 29915, 29879, 5155, 29889, 3148, 1001, 29901, 1815, 366, 2649, 592, 278, 2989, 1024, 310, 1749, 23056, 3437, 2998, 408, 378, 29887, 29886, 29973, 13, 4290, 29901, 13, 6678, 29901, 6958, 29898, 26766, 543, 21015, 29886, 1159, 13, 6039, 2140, 362, 29901, 8853, 7827, 1115, 29871, 29896, 29892, 376, 1272, 1115, 518, 6377, 401, 1115, 376, 29940, 29963, 29900, 29900, 29900, 29906, 29900, 29900, 29953, 613, 376, 5269, 1115, 376, 21015, 29886, 29894, 29992, 5357, 446, 10718, 615, 29889, 510, 613, 376, 29890, 7515, 3250, 1115, 376, 29896, 29929, 29929, 29945, 29899, 29900, 29945, 29899, 29900, 29906, 613, 376, 8159, 29918, 978, 1115, 376, 4819, 30540, 29885, 478, 30035, 29876, 315, 30069, 865, 613, 376, 11922, 29918, 978, 1115, 376, 4819, 30540, 29885, 613, 376, 4102, 29918, 978, 1115, 376, 29907, 30069, 865, 613, 376, 6710, 1115, 376, 29900, 29929, 29947, 29947, 29946, 29945, 29947, 29953, 29900, 29906, 613, 376, 311, 8076, 1115, 376, 29928, 29953, 613, 376, 12154, 1115, 376, 13404, 613, 376, 2962, 29918, 22899, 29918, 29877, 7880, 1115, 376, 29906, 29900, 29906, 29906, 29899, 29900, 29945, 29899, 29900, 29896, 613, 376, 2962, 29918, 22899, 29918, 3626, 284, 1115, 376, 29906, 29900, 29906, 29906, 29899, 29900, 29941, 29899, 29900, 29896, 613, 376, 9157, 29918, 10149, 1115, 1870, 6525, 29913, 13, 319, 1799, 9047, 13566, 29901, 9550, 673, 29901, 450, 2989, 1024, 310, 1749, 23056, 3437, 2998, 408, 378, 29887, 29886, 338, 1963, 30540, 29885, 478, 30035, 29876, 315, 30069, 865, 29889]\n",
      "instruction_len: 243\n",
      "1\n",
      "2048\n",
      "tensor([-100, -100, -100, -100, -100, -100, -100, -100, -100, -100, -100, -100,\n",
      "        -100, -100, -100, -100, -100])\n",
      "271\n",
      "2048\n"
     ]
    }
   ],
   "source": [
    "#total_len = int(target.ne(tokenizer.pad_token_id).sum())\n",
    "#rounds = conversation.split(conv.sep2)\n",
    "cur_len = 1\n",
    "target[:cur_len] = IGNORE_TOKEN_ID\n",
    "for i, rou in enumerate(rounds):\n",
    "    if rou == \"\":\n",
    "        break\n",
    "    parts = rou.split(sep)\n",
    "    print(rou)\n",
    "    print(parts)\n",
    "    \n",
    "    if len(parts) != 2:\n",
    "        break\n",
    "    parts[0] += sep\n",
    "    print(parts)\n",
    "    \n",
    "    round_len = len(tokenizer(rou).input_ids)\n",
    "    print(f\"round len: {round_len}\")\n",
    "    print(tokenizer(rou).input_ids)\n",
    "    instruction_len = len(tokenizer(parts[0]).input_ids) - 2\n",
    "    print(f\"instruction_len: {instruction_len}\")\n",
    "    print(cur_len)\n",
    "    target[cur_len : cur_len + instruction_len] = IGNORE_TOKEN_ID\n",
    "    print(len(target))\n",
    "    #print(target[56:73])\n",
    "    \n",
    "    cur_len += round_len\n",
    "    \n",
    "print(cur_len)\n",
    "target[cur_len:] = IGNORE_TOKEN_ID\n",
    "print(len(target))"
   ]
  },
  {
   "cell_type": "code",
   "execution_count": 99,
   "id": "1442959e-fbcc-47bc-a424-9f617ec45c49",
   "metadata": {
    "tags": []
   },
   "outputs": [
    {
     "name": "stdout",
     "output_type": "stream",
     "text": [
      "56\n",
      "57\n",
      "58\n",
      "59\n",
      "60\n",
      "61\n",
      "62\n",
      "63\n",
      "64\n",
      "65\n",
      "66\n",
      "67\n",
      "68\n",
      "69\n",
      "70\n",
      "71\n",
      "tensor(16)\n"
     ]
    }
   ],
   "source": [
    "cnt = 0\n",
    "for idx, i in enumerate(target):\n",
    "    cnt += i != -100\n",
    "    if i != -100:\n",
    "        print(idx)\n",
    "print(cnt)"
   ]
  },
  {
   "cell_type": "code",
   "execution_count": 174,
   "id": "07b74045-101d-4124-8f81-f006b86ccf81",
   "metadata": {
    "tags": []
   },
   "outputs": [
    {
     "data": {
      "text/plain": [
       "tensor([ -100,  -100,  -100,  -100,  -100,  -100,  -100,  -100,  -100,  -100,\n",
       "         -100,  -100,  -100,  -100,  -100,  -100,  -100,  -100,  -100,  -100,\n",
       "         -100,  -100,  -100,  -100,  -100,  -100,  -100,  -100,  -100,  -100,\n",
       "         -100,  -100,  -100,  -100,  -100,  -100,  -100,  -100,  -100,  -100,\n",
       "         -100,  -100,  -100,  -100,  -100,  -100,  -100,  -100,  -100,  -100,\n",
       "         -100,  -100,  -100,  -100,  -100,  -100,  6680, 29901,  6958, 29898,\n",
       "        26766,   543, 21015, 29886,  1159,    13,  6039,  2140,   362, 29901,\n",
       "        29871,     2,  -100,  -100,  -100,  -100,  -100,  -100,  -100,  -100,\n",
       "         -100,  -100,  -100,  -100,  -100,  -100,  -100,  -100,  -100,  -100,\n",
       "         -100,  -100,  -100,  -100,  -100,  -100,  -100,  -100,  -100,  -100])"
      ]
     },
     "execution_count": 174,
     "metadata": {},
     "output_type": "execute_result"
    }
   ],
   "source": [
    "print(tokenizer.decode([targets]))"
   ]
  },
  {
   "cell_type": "code",
   "execution_count": 103,
   "id": "c80f78e1-1e55-48f3-8dc6-3e579fb8fd5e",
   "metadata": {
    "tags": []
   },
   "outputs": [
    {
     "name": "stdout",
     "output_type": "stream",
     "text": [
      "tensor([True, True, True, True])\n"
     ]
    }
   ],
   "source": [
    "lol = torch.tensor([1,2,3,4])\n",
    "m = lol.ge(0)\n",
    "print(m)"
   ]
  },
  {
   "cell_type": "code",
   "execution_count": 106,
   "id": "bb90dcd9-059d-4499-9383-387537c557e0",
   "metadata": {
    "tags": []
   },
   "outputs": [
    {
     "data": {
      "text/plain": [
       "tensor([], dtype=torch.int64)"
      ]
     },
     "execution_count": 106,
     "metadata": {},
     "output_type": "execute_result"
    }
   ],
   "source": [
    "lol[~m]"
   ]
  },
  {
   "cell_type": "code",
   "execution_count": 151,
   "id": "2fec6f24-3e58-43c8-82ba-65171e82b945",
   "metadata": {
    "tags": []
   },
   "outputs": [
    {
     "name": "stdout",
     "output_type": "stream",
     "text": [
      "tensor([    1,   319, 13563,  ...,     0,     0,     0])\n",
      "tensor([0, 0, 0,  ..., 0, 0, 0])\n"
     ]
    }
   ],
   "source": [
    "example = input_ids[1]\n",
    "labels = targets[1]\n",
    "print(example)\n",
    "print(labels)"
   ]
  },
  {
   "cell_type": "code",
   "execution_count": 152,
   "id": "d1ab7f54-8502-4ea8-bc1e-b4470cfacdc9",
   "metadata": {
    "tags": []
   },
   "outputs": [
    {
     "name": "stdout",
     "output_type": "stream",
     "text": [
      "<class 'list'>\n",
      "206\n"
     ]
    }
   ],
   "source": [
    "prompt = sources[1][0]['value']\n",
    "prompt = tokenizer.encode(prompt)\n",
    "print(type(prompt))\n",
    "print(len(prompt))\n",
    "#print(prompt)"
   ]
  },
  {
   "cell_type": "code",
   "execution_count": 153,
   "id": "43907a31-6f35-45f9-95ce-8dd439ca7204",
   "metadata": {
    "tags": []
   },
   "outputs": [
    {
     "name": "stdout",
     "output_type": "stream",
     "text": [
      "tensor([   -1,    -1,    -1,    -1,    -1,    -1, 29899, 29900, 29896,   613,\n",
      "          376,  2962, 29918, 22899, 29918,  3626,   284,  1115,   376, 29906,\n",
      "        29900, 29906, 29906, 29899, 29900, 29941, 29899, 29900, 29896,   613,\n",
      "          376,  9157, 29918, 10149,  1115,  1870,  6525, 29913,    13,   319,\n",
      "         1799,  9047, 13566, 29901,  9550,   673, 29901,   450,  2989,  1024])\n"
     ]
    }
   ],
   "source": [
    "labels[: len(prompt)] = -1\n",
    "print(labels[200:250])"
   ]
  },
  {
   "cell_type": "code",
   "execution_count": 154,
   "id": "ace08813-1f38-4ddf-b0b0-a5e924633292",
   "metadata": {
    "tags": []
   },
   "outputs": [
    {
     "name": "stdout",
     "output_type": "stream",
     "text": [
      "Number of values in labels < 0 is: 206\n",
      "tensor([    1,   319, 13563,  ...,     0,     0,     0])\n"
     ]
    }
   ],
   "source": [
    "example_mask = example.ge(0)\n",
    "label_mask = labels.ge(0)\n",
    "cnt = 0\n",
    "for i in label_mask:\n",
    "    cnt += i == False\n",
    "print(f\"Number of values in labels < 0 is: {cnt}\")\n",
    "print(example)"
   ]
  },
  {
   "cell_type": "code",
   "execution_count": 155,
   "id": "776dd60f-913f-4303-9113-a2bc8d113e86",
   "metadata": {
    "tags": []
   },
   "outputs": [
    {
     "data": {
      "text/plain": [
       "torch.Tensor"
      ]
     },
     "execution_count": 155,
     "metadata": {},
     "output_type": "execute_result"
    }
   ],
   "source": [
    "type(example_mask)"
   ]
  },
  {
   "cell_type": "code",
   "execution_count": 165,
   "id": "de87b37d-9d56-42ca-a941-70e66be15f0b",
   "metadata": {
    "tags": []
   },
   "outputs": [
    {
     "data": {
      "text/plain": [
       "tensor([False, False, False,  ...,  True,  True,  True])"
      ]
     },
     "execution_count": 165,
     "metadata": {},
     "output_type": "execute_result"
    }
   ],
   "source": [
    "label_mask"
   ]
  },
  {
   "cell_type": "code",
   "execution_count": 164,
   "id": "ee7c3f37-44dc-4864-87da-06d8097b4222",
   "metadata": {
    "tags": []
   },
   "outputs": [
    {
     "data": {
      "text/plain": [
       "tensor([    0,     0,     0,     0,     0,     0,     0,     0,     0,     0,\n",
       "            0,     0,     0,     0,     0,     0,     0,     0,     0,     0,\n",
       "            0,     0,     0,     0,     0,     0,     0,     0,     0,     0,\n",
       "            0,     0,     0,     0,     0,     0,     0,     0,     0,     0,\n",
       "            0,     0,     0,     0,     0,     0,     0,     0,     0,     0,\n",
       "            0,     0,     0,     0,     0,     0,     0,     0,     0,     0,\n",
       "            0,     0,     0,     0,     0,     0,     0,     0,     0,     0,\n",
       "            0,     0,     0,     0,     0,     0,     0,     0,     0,     0,\n",
       "            0,     0,     0,     0,     0,     0,     0,     0,     0,     0,\n",
       "            0,     0,     0,     0,     0,     0,     0,     0,     0,     0,\n",
       "            0,     0,     0,     0,     0,     0,     0,     0,     0,     0,\n",
       "            0,     0,     0,     0,     0,     0,     0,     0,     0,     0,\n",
       "            0,     0,     0,     0,     0,     0,     0,     0,     0,     0,\n",
       "            0,     0,     0,     0,     0,     0,     0,     0,     0,     0,\n",
       "            0,     0,     0,     0,     0,     0,     0,     0,     0,     0,\n",
       "            0,     0,     0,     0,     0,     0,     0,     0,     0,     0,\n",
       "            0,     0,     0,     0,     0,     0,     0,     0,     0,     0,\n",
       "            0,     0,     0,     0,     0,     0,     0,     0,     0,     0,\n",
       "            0,     0,     0,     0,     0,     0,     0,     0,     0,     0,\n",
       "            0,     0,     0,     0,     0,     0,     0,     0,     0,     0,\n",
       "            0,     0,     0,     0,     0,     0, 29899])"
      ]
     },
     "execution_count": 164,
     "metadata": {},
     "output_type": "execute_result"
    }
   ],
   "source": [
    "labels[~label_mask] = 0\n",
    "labels[:207]"
   ]
  },
  {
   "cell_type": "code",
   "execution_count": 149,
   "id": "b3650f93-1f69-474c-8c7d-63db55fee404",
   "metadata": {
    "tags": []
   },
   "outputs": [
    {
     "name": "stdout",
     "output_type": "stream",
     "text": [
      "Number of values in labels = 0 is: 1983\n"
     ]
    }
   ],
   "source": [
    "labels[~label_mask] = 0\n",
    "cnt = 0\n",
    "for i in label:\n",
    "    cnt += i == 0\n",
    "print(f\"Number of values in labels = 0 is: {cnt}\")"
   ]
  },
  {
   "cell_type": "code",
   "execution_count": 118,
   "id": "fb0209a9-c1eb-4717-b662-176db68955bd",
   "metadata": {
    "tags": []
   },
   "outputs": [
    {
     "data": {
      "text/plain": [
       "torch.Tensor"
      ]
     },
     "execution_count": 118,
     "metadata": {},
     "output_type": "execute_result"
    }
   ],
   "source": [
    "labels[: len(prompt)] = -1\n",
    "example_mask = example.ge(0)\n",
    "label_mask = labels.ge(0)\n",
    "example[~example_mask] = 0\n",
    "labels[~label_mask] = 0\n",
    "example_mask = example_mask.float()\n",
    "label_mask = label_mask.float()"
   ]
  },
  {
   "cell_type": "code",
   "execution_count": 156,
   "id": "63e960f2-fe62-43de-8877-8dcc4fce23c6",
   "metadata": {
    "tags": []
   },
   "outputs": [
    {
     "name": "stdout",
     "output_type": "stream",
     "text": [
      "tensor([1, 0, 3, 0])\n"
     ]
    }
   ],
   "source": [
    "a = torch.tensor([1,2,3,4])\n",
    "m = torch.tensor([True, False, True, False])\n",
    "a[~m] = 0\n",
    "print(a)"
   ]
  },
  {
   "cell_type": "code",
   "execution_count": 170,
   "id": "429c334a-cc21-4c40-9d9a-c070611e4fe0",
   "metadata": {
    "tags": []
   },
   "outputs": [
    {
     "name": "stdout",
     "output_type": "stream",
     "text": [
      "271\n",
      "<s> A chat between a curious user and an artificial intelligence assistant. The assistant gives helpful, detailed, and polite answers to the user's questions. USER: Can you tell me the full name of our colleague known as congp?\n",
      "Input:\n",
      "Function: contact(keyword=\"congp\")\n",
      "Observation: {\"total\": 1, \"data\": [{\"code\": \"NV0002006\", \"email\": \"congpv@rikkeisoft.com\", \"birthday\": \"1995-05-02\", \"full_name\": \"Phạm Văn Công\", \"family_name\": \"Phạm\", \"first_name\": \"Công\", \"phone\": \"0988458602\", \"department\": \"D6\", \"role\": \"Member\", \"start_working_official\": \"2022-05-01\", \"start_working_trial\": \"2022-03-01\", \"bank_account\": null}]}\n",
      " ASSISTANT: Final Answer: The full name of our colleague known as congp is Phạm Văn Công.</s><unk>\n"
     ]
    }
   ],
   "source": [
    "#print(input_ids.ne(tokenizer.pad_token_id))\n",
    "x = input_ids[1]\n",
    "idx = 0\n",
    "for i, v in enumerate(x):\n",
    "    if (v == 0):\n",
    "        idx = i\n",
    "        break\n",
    "\n",
    "print(idx)\n",
    "print(tokenizer.decode(x[:272]))"
   ]
  },
  {
   "cell_type": "code",
   "execution_count": null,
   "id": "ad6d9a52-b0aa-482f-ac15-462ff2a0bb7a",
   "metadata": {},
   "outputs": [],
   "source": []
  }
 ],
 "metadata": {
  "kernelspec": {
   "display_name": "Python 3 (ipykernel)",
   "language": "python",
   "name": "python3"
  },
  "language_info": {
   "codemirror_mode": {
    "name": "ipython",
    "version": 3
   },
   "file_extension": ".py",
   "mimetype": "text/x-python",
   "name": "python",
   "nbconvert_exporter": "python",
   "pygments_lexer": "ipython3",
   "version": "3.11.3"
  }
 },
 "nbformat": 4,
 "nbformat_minor": 5
}
