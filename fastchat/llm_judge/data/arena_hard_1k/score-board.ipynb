{
 "cells": [
  {
   "cell_type": "code",
   "execution_count": 27,
   "metadata": {},
   "outputs": [],
   "source": [
    "import pandas as pd\n",
    "import plotly.express as px\n",
    "import glob\n",
    "import os\n",
    "import re\n",
    "from tqdm import tqdm"
   ]
  },
  {
   "cell_type": "code",
   "execution_count": 51,
   "metadata": {},
   "outputs": [],
   "source": [
    "pattern = re.compile(r\"\\[\\[(.*?)\\]\\]\")\n",
    "\n",
    "def get_score(text):\n",
    "    matches = pattern.findall(text)\n",
    "\n",
    "    if len(matches) == 1:\n",
    "        return float(matches[0])"
   ]
  },
  {
   "cell_type": "code",
   "execution_count": 57,
   "metadata": {},
   "outputs": [
    {
     "data": {
      "text/plain": [
       "242"
      ]
     },
     "execution_count": 57,
     "metadata": {},
     "output_type": "execute_result"
    }
   ],
   "source": [
    "df = pd.read_json(\"rated_question.jsonl\", lines=True)\n",
    "\n",
    "harder = df[df[\"mean_score\"] < 7]\n",
    "harder.to_json(\"harder_question.jsonl\", orient=\"records\", lines=True)\n",
    "len(harder)"
   ]
  },
  {
   "cell_type": "code",
   "execution_count": 53,
   "metadata": {},
   "outputs": [],
   "source": [
    "path = os.path.join(\"model_answer\", \"*.jsonl\")\n",
    "files = glob.glob(path)\n",
    "    \n",
    "models = []\n",
    "for file in files:\n",
    "    models.append(file.replace(\".jsonl\", \"\").replace(\"model_answer/\", \"\"))"
   ]
  },
  {
   "cell_type": "code",
   "execution_count": 54,
   "metadata": {},
   "outputs": [
    {
     "name": "stderr",
     "output_type": "stream",
     "text": [
      "100%|██████████| 11/11 [00:00<00:00, 182.26it/s]\n"
     ]
    }
   ],
   "source": [
    "leader_board = {}\n",
    "\n",
    "ids = harder[\"question_id\"].to_list()\n",
    "\n",
    "judgment = pd.read_json(os.path.join(\"model_judgment\", \"gpt-4_single.jsonl\"), lines=True)\n",
    "\n",
    "for model in tqdm(models):\n",
    "    model_df = judgment[judgment[\"model\"] == model]\n",
    "    model_df = model_df[model_df[\"question_id\"].isin(ids)]\n",
    "\n",
    "    total_score = 0\n",
    "    count = 0\n",
    "    for i, row in model_df.iterrows():\n",
    "        score = get_score(row[\"judgment\"])\n",
    "        \n",
    "        if not score:\n",
    "            continue\n",
    "\n",
    "        total_score += score\n",
    "        count += 1\n",
    "\n",
    "    leader_board[model] = total_score / count"
   ]
  },
  {
   "cell_type": "code",
   "execution_count": 55,
   "metadata": {},
   "outputs": [
    {
     "data": {
      "text/plain": [
       "{'claude-v1': 5.697478991596639,\n",
       " 'gpt-3.5-turbo': 5.975103734439834,\n",
       " 'claude-instant-v1': 5.341666666666667,\n",
       " 'vicuna-13b-v1.5': 2.957805907172996,\n",
       " 'Llama-2-70b-chat': 3.0720338983050848,\n",
       " 'wizardlm-70b-v1.0': 4.175,\n",
       " 'vicuna-7b-v1.5': 2.3221757322175733,\n",
       " 'vicuna-33b-v1.3': 3.3177966101694913,\n",
       " 'claude-2': 5.929166666666666,\n",
       " 'gpt-4': 8.215767634854771,\n",
       " 'palm-2-chat-bison-001': 2.5625}"
      ]
     },
     "execution_count": 55,
     "metadata": {},
     "output_type": "execute_result"
    }
   ],
   "source": [
    "leader_board"
   ]
  },
  {
   "cell_type": "code",
   "execution_count": 56,
   "metadata": {},
   "outputs": [
    {
     "data": {
      "text/plain": [
       "{'gpt-4': 8.215767634854771,\n",
       " 'gpt-3.5-turbo': 5.975103734439834,\n",
       " 'claude-2': 5.929166666666666,\n",
       " 'claude-v1': 5.697478991596639,\n",
       " 'claude-instant-v1': 5.341666666666667,\n",
       " 'wizardlm-70b-v1.0': 4.175,\n",
       " 'vicuna-33b-v1.3': 3.3177966101694913,\n",
       " 'Llama-2-70b-chat': 3.0720338983050848,\n",
       " 'vicuna-13b-v1.5': 2.957805907172996,\n",
       " 'palm-2-chat-bison-001': 2.5625,\n",
       " 'vicuna-7b-v1.5': 2.3221757322175733}"
      ]
     },
     "execution_count": 56,
     "metadata": {},
     "output_type": "execute_result"
    }
   ],
   "source": [
    "dict(sorted(leader_board.items(), key=lambda item: item[1], reverse=True))"
   ]
  },
  {
   "cell_type": "code",
   "execution_count": null,
   "metadata": {},
   "outputs": [],
   "source": []
  }
 ],
 "metadata": {
  "kernelspec": {
   "display_name": "base",
   "language": "python",
   "name": "python3"
  },
  "language_info": {
   "codemirror_mode": {
    "name": "ipython",
    "version": 3
   },
   "file_extension": ".py",
   "mimetype": "text/x-python",
   "name": "python",
   "nbconvert_exporter": "python",
   "pygments_lexer": "ipython3",
   "version": "3.10.12"
  },
  "orig_nbformat": 4
 },
 "nbformat": 4,
 "nbformat_minor": 2
}
