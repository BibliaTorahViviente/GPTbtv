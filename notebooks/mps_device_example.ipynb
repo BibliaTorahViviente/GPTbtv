{
 "cells": [
  {
   "attachments": {},
   "cell_type": "markdown",
   "metadata": {},
   "source": [
    "### Prerequisites\n",
    "* Install the FastChat package by following the instructions in the parent directory's [README.md](../README.md) file or follow the [tutorial.ipynb](tutorial.ipynb) notebook's Installation section.\n",
    "* Get vicuna weights for a chatbot by following the instructions in the [vicuna_weights.ipynb](vicuna_weights.ipynb) notebook.\n",
    "\n",
    "**Note:** Enable GPU acceleration on Mac computers requires torch >= 2.0 "
   ]
  },
  {
   "cell_type": "markdown",
   "metadata": {},
   "source": []
  }
 ],
 "metadata": {
  "language_info": {
   "name": "python"
  },
  "orig_nbformat": 4
 },
 "nbformat": 4,
 "nbformat_minor": 2
}
